{
  "nbformat": 4,
  "nbformat_minor": 0,
  "metadata": {
    "colab": {
      "name": "KaitlynPropstAssignment7.ipynb",
      "provenance": [],
      "collapsed_sections": [],
      "authorship_tag": "ABX9TyO03n131wvXXD5fPdSOGqYX",
      "include_colab_link": true
    },
    "kernelspec": {
      "name": "python3",
      "display_name": "Python 3"
    },
    "language_info": {
      "name": "python"
    }
  },
  "cells": [
    {
      "cell_type": "markdown",
      "metadata": {
        "id": "view-in-github",
        "colab_type": "text"
      },
      "source": [
        "<a href=\"https://colab.research.google.com/github/propst06/DataMining/blob/main/KaitlynPropstAssignment7.ipynb\" target=\"_parent\"><img src=\"https://colab.research.google.com/assets/colab-badge.svg\" alt=\"Open In Colab\"/></a>"
      ]
    },
    {
      "cell_type": "code",
      "metadata": {
        "id": "ALN5J1bC4Zxc"
      },
      "source": [
        "import numpy as np\n",
        "import pandas as pd"
      ],
      "execution_count": 1,
      "outputs": []
    },
    {
      "cell_type": "code",
      "metadata": {
        "colab": {
          "base_uri": "https://localhost:8080/"
        },
        "id": "gjWQ8Fq24P1x",
        "outputId": "9b3ec9f9-2a8d-4c0e-c660-9b024e1ea762"
      },
      "source": [
        "import io\n",
        "import requests\n",
        "url=\"https://data.medicaid.gov/api/views/mmgn-kvy5/rows.csv?accessType=DOWNLOAD\"\n",
        "s=requests.get(url).content\n",
        "c=pd.read_csv(io.StringIO(s.decode('utf-8')))"
      ],
      "execution_count": 2,
      "outputs": [
        {
          "output_type": "stream",
          "text": [
            "/usr/local/lib/python3.7/dist-packages/IPython/core/interactiveshell.py:2718: DtypeWarning: Columns (4,19) have mixed types.Specify dtype option on import or set low_memory=False.\n",
            "  interactivity=interactivity, compiler=compiler, result=result)\n"
          ],
          "name": "stderr"
        }
      ]
    },
    {
      "cell_type": "code",
      "metadata": {
        "id": "tAWf2x7E4eLK"
      },
      "source": [
        "df = pd.read_csv(\"https://data.medicaid.gov/api/views/mmgn-kvy5/rows.csv?accessType=DOWNLOAD\", low_memory=False)"
      ],
      "execution_count": 3,
      "outputs": []
    },
    {
      "cell_type": "code",
      "metadata": {
        "colab": {
          "base_uri": "https://localhost:8080/",
          "height": 268
        },
        "id": "nnoZY2pB4iDZ",
        "outputId": "a099f222-12c1-4a92-c018-5cede2c806f6"
      },
      "source": [
        "df.head()"
      ],
      "execution_count": 4,
      "outputs": [
        {
          "output_type": "execute_result",
          "data": {
            "text/html": [
              "<div>\n",
              "<style scoped>\n",
              "    .dataframe tbody tr th:only-of-type {\n",
              "        vertical-align: middle;\n",
              "    }\n",
              "\n",
              "    .dataframe tbody tr th {\n",
              "        vertical-align: top;\n",
              "    }\n",
              "\n",
              "    .dataframe thead th {\n",
              "        text-align: right;\n",
              "    }\n",
              "</style>\n",
              "<table border=\"1\" class=\"dataframe\">\n",
              "  <thead>\n",
              "    <tr style=\"text-align: right;\">\n",
              "      <th></th>\n",
              "      <th>Utilization Type</th>\n",
              "      <th>State</th>\n",
              "      <th>Labeler Code</th>\n",
              "      <th>Product Code</th>\n",
              "      <th>Package Size</th>\n",
              "      <th>Year</th>\n",
              "      <th>Quarter</th>\n",
              "      <th>Product Name</th>\n",
              "      <th>Units Reimbursed</th>\n",
              "      <th>Suppression Used</th>\n",
              "      <th>Number of Prescriptions</th>\n",
              "      <th>Total Amount Reimbursed</th>\n",
              "      <th>Medicaid Amount Reimbursed</th>\n",
              "      <th>Non Medicaid Amount Reimbursed</th>\n",
              "      <th>Quarter Begin</th>\n",
              "      <th>Quarter Begin Date</th>\n",
              "      <th>Latitude</th>\n",
              "      <th>Longitude</th>\n",
              "      <th>Location</th>\n",
              "      <th>NDC</th>\n",
              "    </tr>\n",
              "  </thead>\n",
              "  <tbody>\n",
              "    <tr>\n",
              "      <th>0</th>\n",
              "      <td>FFSU</td>\n",
              "      <td>XX</td>\n",
              "      <td>49502</td>\n",
              "      <td>810</td>\n",
              "      <td>03</td>\n",
              "      <td>2010</td>\n",
              "      <td>2</td>\n",
              "      <td>WATER FOR</td>\n",
              "      <td>NaN</td>\n",
              "      <td>True</td>\n",
              "      <td>NaN</td>\n",
              "      <td>NaN</td>\n",
              "      <td>NaN</td>\n",
              "      <td>NaN</td>\n",
              "      <td>4/1</td>\n",
              "      <td>04/01/2010</td>\n",
              "      <td>NaN</td>\n",
              "      <td>NaN</td>\n",
              "      <td>NaN</td>\n",
              "      <td>49502081003</td>\n",
              "    </tr>\n",
              "    <tr>\n",
              "      <th>1</th>\n",
              "      <td>MCOU</td>\n",
              "      <td>XX</td>\n",
              "      <td>603</td>\n",
              "      <td>3881</td>\n",
              "      <td>12</td>\n",
              "      <td>2010</td>\n",
              "      <td>3</td>\n",
              "      <td>HYDROCODON</td>\n",
              "      <td>NaN</td>\n",
              "      <td>True</td>\n",
              "      <td>NaN</td>\n",
              "      <td>NaN</td>\n",
              "      <td>NaN</td>\n",
              "      <td>NaN</td>\n",
              "      <td>7/1</td>\n",
              "      <td>07/01/2010</td>\n",
              "      <td>NaN</td>\n",
              "      <td>NaN</td>\n",
              "      <td>NaN</td>\n",
              "      <td>00603388112</td>\n",
              "    </tr>\n",
              "    <tr>\n",
              "      <th>2</th>\n",
              "      <td>MCOU</td>\n",
              "      <td>XX</td>\n",
              "      <td>78</td>\n",
              "      <td>502</td>\n",
              "      <td>15</td>\n",
              "      <td>2010</td>\n",
              "      <td>2</td>\n",
              "      <td>EXELON 9.5</td>\n",
              "      <td>6330.0</td>\n",
              "      <td>False</td>\n",
              "      <td>211.0</td>\n",
              "      <td>44432.7</td>\n",
              "      <td>44393.7</td>\n",
              "      <td>39.0</td>\n",
              "      <td>4/1</td>\n",
              "      <td>04/01/2010</td>\n",
              "      <td>NaN</td>\n",
              "      <td>NaN</td>\n",
              "      <td>NaN</td>\n",
              "      <td>00078050215</td>\n",
              "    </tr>\n",
              "    <tr>\n",
              "      <th>3</th>\n",
              "      <td>MCOU</td>\n",
              "      <td>XX</td>\n",
              "      <td>603</td>\n",
              "      <td>4990</td>\n",
              "      <td>28</td>\n",
              "      <td>2010</td>\n",
              "      <td>4</td>\n",
              "      <td>OXYCODONE</td>\n",
              "      <td>NaN</td>\n",
              "      <td>True</td>\n",
              "      <td>NaN</td>\n",
              "      <td>NaN</td>\n",
              "      <td>NaN</td>\n",
              "      <td>NaN</td>\n",
              "      <td>10/1</td>\n",
              "      <td>10/01/2010</td>\n",
              "      <td>NaN</td>\n",
              "      <td>NaN</td>\n",
              "      <td>NaN</td>\n",
              "      <td>00603499028</td>\n",
              "    </tr>\n",
              "    <tr>\n",
              "      <th>4</th>\n",
              "      <td>MCOU</td>\n",
              "      <td>XX</td>\n",
              "      <td>11980</td>\n",
              "      <td>228</td>\n",
              "      <td>10</td>\n",
              "      <td>2010</td>\n",
              "      <td>1</td>\n",
              "      <td>FML FORTE</td>\n",
              "      <td>NaN</td>\n",
              "      <td>True</td>\n",
              "      <td>NaN</td>\n",
              "      <td>NaN</td>\n",
              "      <td>NaN</td>\n",
              "      <td>NaN</td>\n",
              "      <td>1/1</td>\n",
              "      <td>01/01/2010</td>\n",
              "      <td>NaN</td>\n",
              "      <td>NaN</td>\n",
              "      <td>NaN</td>\n",
              "      <td>11980022810</td>\n",
              "    </tr>\n",
              "  </tbody>\n",
              "</table>\n",
              "</div>"
            ],
            "text/plain": [
              "  Utilization Type State  Labeler Code  ...  Longitude Location          NDC\n",
              "0             FFSU    XX         49502  ...        NaN      NaN  49502081003\n",
              "1             MCOU    XX           603  ...        NaN      NaN  00603388112\n",
              "2             MCOU    XX            78  ...        NaN      NaN  00078050215\n",
              "3             MCOU    XX           603  ...        NaN      NaN  00603499028\n",
              "4             MCOU    XX         11980  ...        NaN      NaN  11980022810\n",
              "\n",
              "[5 rows x 20 columns]"
            ]
          },
          "metadata": {
            "tags": []
          },
          "execution_count": 4
        }
      ]
    },
    {
      "cell_type": "code",
      "metadata": {
        "colab": {
          "base_uri": "https://localhost:8080/"
        },
        "id": "n3U-ZJ8O4jC4",
        "outputId": "889e9c57-817b-4930-a4a8-9b455856ff91"
      },
      "source": [
        "df.columns"
      ],
      "execution_count": 5,
      "outputs": [
        {
          "output_type": "execute_result",
          "data": {
            "text/plain": [
              "Index(['Utilization Type', 'State', 'Labeler Code', 'Product Code',\n",
              "       'Package Size', 'Year', 'Quarter', 'Product Name', 'Units Reimbursed',\n",
              "       'Suppression Used', 'Number of Prescriptions',\n",
              "       'Total Amount Reimbursed', 'Medicaid Amount Reimbursed',\n",
              "       'Non Medicaid Amount Reimbursed', 'Quarter Begin', 'Quarter Begin Date',\n",
              "       'Latitude', 'Longitude', 'Location', 'NDC'],\n",
              "      dtype='object')"
            ]
          },
          "metadata": {
            "tags": []
          },
          "execution_count": 5
        }
      ]
    },
    {
      "cell_type": "code",
      "metadata": {
        "colab": {
          "base_uri": "https://localhost:8080/",
          "height": 200
        },
        "id": "zgeZt9bu4nIa",
        "outputId": "aeef83d2-05e9-46cf-e15f-42e61f05d5a2"
      },
      "source": [
        "def summarize_data(g):\n",
        "  return(\n",
        "    pd.Series({\n",
        "      \"avg_year\": g.Year.mean(),\n",
        "      \"min_year\": g.Year.min(),\n",
        "      \"max_year\": g.Year.max(),\n",
        "      \"sample_count\": len(g),\n",
        "      \"mix\": g.Quarter.sum()/df.Quarter.sum(),\n",
        "    })\n",
        "  )\n",
        "\n",
        "df.groupby(\"Quarter\").apply(summarize_data)\n",
        "#show average year, smallest year available, largest year available, how many samples fall into that quarter"
      ],
      "execution_count": 9,
      "outputs": [
        {
          "output_type": "execute_result",
          "data": {
            "text/html": [
              "<div>\n",
              "<style scoped>\n",
              "    .dataframe tbody tr th:only-of-type {\n",
              "        vertical-align: middle;\n",
              "    }\n",
              "\n",
              "    .dataframe tbody tr th {\n",
              "        vertical-align: top;\n",
              "    }\n",
              "\n",
              "    .dataframe thead th {\n",
              "        text-align: right;\n",
              "    }\n",
              "</style>\n",
              "<table border=\"1\" class=\"dataframe\">\n",
              "  <thead>\n",
              "    <tr style=\"text-align: right;\">\n",
              "      <th></th>\n",
              "      <th>avg_year</th>\n",
              "      <th>min_year</th>\n",
              "      <th>max_year</th>\n",
              "      <th>sample_count</th>\n",
              "      <th>mix</th>\n",
              "    </tr>\n",
              "    <tr>\n",
              "      <th>Quarter</th>\n",
              "      <th></th>\n",
              "      <th></th>\n",
              "      <th></th>\n",
              "      <th></th>\n",
              "      <th></th>\n",
              "    </tr>\n",
              "  </thead>\n",
              "  <tbody>\n",
              "    <tr>\n",
              "      <th>1</th>\n",
              "      <td>2010.0</td>\n",
              "      <td>2010.0</td>\n",
              "      <td>2010.0</td>\n",
              "      <td>683437.0</td>\n",
              "      <td>0.085076</td>\n",
              "    </tr>\n",
              "    <tr>\n",
              "      <th>2</th>\n",
              "      <td>2010.0</td>\n",
              "      <td>2010.0</td>\n",
              "      <td>2010.0</td>\n",
              "      <td>788650.0</td>\n",
              "      <td>0.196347</td>\n",
              "    </tr>\n",
              "    <tr>\n",
              "      <th>3</th>\n",
              "      <td>2010.0</td>\n",
              "      <td>2010.0</td>\n",
              "      <td>2010.0</td>\n",
              "      <td>818427.0</td>\n",
              "      <td>0.305641</td>\n",
              "    </tr>\n",
              "    <tr>\n",
              "      <th>4</th>\n",
              "      <td>2010.0</td>\n",
              "      <td>2010.0</td>\n",
              "      <td>2010.0</td>\n",
              "      <td>829301.0</td>\n",
              "      <td>0.412936</td>\n",
              "    </tr>\n",
              "  </tbody>\n",
              "</table>\n",
              "</div>"
            ],
            "text/plain": [
              "         avg_year  min_year  max_year  sample_count       mix\n",
              "Quarter                                                      \n",
              "1          2010.0    2010.0    2010.0      683437.0  0.085076\n",
              "2          2010.0    2010.0    2010.0      788650.0  0.196347\n",
              "3          2010.0    2010.0    2010.0      818427.0  0.305641\n",
              "4          2010.0    2010.0    2010.0      829301.0  0.412936"
            ]
          },
          "metadata": {
            "tags": []
          },
          "execution_count": 9
        }
      ]
    },
    {
      "cell_type": "markdown",
      "metadata": {
        "id": "XYnGLHuz9pqA"
      },
      "source": [
        "g becomes a new table of the original dataframe df. "
      ]
    },
    {
      "cell_type": "markdown",
      "metadata": {
        "id": "vlpupb6B8qO3"
      },
      "source": [
        "When I applied summarize_data() to my dataframe, I had limited choices with the columns to use. Therefore, I used Quarter and Year, however all of this information was gathered in the year 2010. I would have liked to use Units Reimbursed, but I can't transform the type of data that column is into an int64 because of the null values, even after using df.dropna(). This particular dataset is frustrating to work with at the level of Python I'm comfortable with. With that in mind, the code did work in separating the quarters and applying the formulas, it's just that there wasn't a variety of data to work with. "
      ]
    }
  ]
}