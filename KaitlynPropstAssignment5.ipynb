{
  "nbformat": 4,
  "nbformat_minor": 0,
  "metadata": {
    "colab": {
      "name": "KaitlynPropstAssignment5.ipynb",
      "provenance": [],
      "authorship_tag": "ABX9TyNCkXw3MG/FfwAgikUJEClJ",
      "include_colab_link": true
    },
    "kernelspec": {
      "name": "python3",
      "display_name": "Python 3"
    },
    "language_info": {
      "name": "python"
    }
  },
  "cells": [
    {
      "cell_type": "markdown",
      "metadata": {
        "id": "view-in-github",
        "colab_type": "text"
      },
      "source": [
        "<a href=\"https://colab.research.google.com/github/propst06/DataMining/blob/main/KaitlynPropstAssignment5.ipynb\" target=\"_parent\"><img src=\"https://colab.research.google.com/assets/colab-badge.svg\" alt=\"Open In Colab\"/></a>"
      ]
    },
    {
      "cell_type": "code",
      "metadata": {
        "id": "XIMKwRcQvdkE"
      },
      "source": [
        "import pandas as pd\n",
        "import numpy as np\n",
        "import seaborn as sns\n"
      ],
      "execution_count": 1,
      "outputs": []
    },
    {
      "cell_type": "code",
      "metadata": {
        "colab": {
          "base_uri": "https://localhost:8080/"
        },
        "id": "bI9vGt3Yvs7-",
        "outputId": "f026f7bc-5447-44c2-b526-b1dc92b78b76"
      },
      "source": [
        "import io\n",
        "import requests\n",
        "url=\"https://data.medicaid.gov/api/views/mmgn-kvy5/rows.csv?accessType=DOWNLOAD\"\n",
        "s=requests.get(url).content\n",
        "c=pd.read_csv(io.StringIO(s.decode('utf-8')))"
      ],
      "execution_count": 2,
      "outputs": [
        {
          "output_type": "stream",
          "text": [
            "/usr/local/lib/python3.7/dist-packages/IPython/core/interactiveshell.py:2718: DtypeWarning: Columns (4,19) have mixed types.Specify dtype option on import or set low_memory=False.\n",
            "  interactivity=interactivity, compiler=compiler, result=result)\n"
          ],
          "name": "stderr"
        }
      ]
    },
    {
      "cell_type": "code",
      "metadata": {
        "id": "5sU8SH0sv9cC"
      },
      "source": [
        "df = pd.read_csv(\"https://data.medicaid.gov/api/views/mmgn-kvy5/rows.csv?accessType=DOWNLOAD\", low_memory=False)"
      ],
      "execution_count": 3,
      "outputs": []
    },
    {
      "cell_type": "code",
      "metadata": {
        "colab": {
          "base_uri": "https://localhost:8080/"
        },
        "id": "lFLJho8wwBxa",
        "outputId": "7c318d22-db3b-4e36-b88c-e86c8046349e"
      },
      "source": [
        "df.dtypes\n",
        "#List column types"
      ],
      "execution_count": 4,
      "outputs": [
        {
          "output_type": "execute_result",
          "data": {
            "text/plain": [
              "Utilization Type                   object\n",
              "State                              object\n",
              "Labeler Code                        int64\n",
              "Product Code                        int64\n",
              "Package Size                       object\n",
              "Year                                int64\n",
              "Quarter                             int64\n",
              "Product Name                       object\n",
              "Units Reimbursed                  float64\n",
              "Suppression Used                     bool\n",
              "Number of Prescriptions           float64\n",
              "Total Amount Reimbursed           float64\n",
              "Medicaid Amount Reimbursed        float64\n",
              "Non Medicaid Amount Reimbursed    float64\n",
              "Quarter Begin                      object\n",
              "Quarter Begin Date                 object\n",
              "Latitude                          float64\n",
              "Longitude                         float64\n",
              "Location                           object\n",
              "NDC                                object\n",
              "dtype: object"
            ]
          },
          "metadata": {
            "tags": []
          },
          "execution_count": 4
        }
      ]
    },
    {
      "cell_type": "code",
      "metadata": {
        "id": "2zklGZZ7zntl"
      },
      "source": [
        "df['supp_string'] = df['Suppression Used'].astype(str)\n",
        "#Convert a column to string by creating new column"
      ],
      "execution_count": 5,
      "outputs": []
    },
    {
      "cell_type": "code",
      "metadata": {
        "colab": {
          "base_uri": "https://localhost:8080/"
        },
        "id": "S3h3wvyV0ShK",
        "outputId": "17eae7f5-72c3-49dd-a814-1b5dcdaf60eb"
      },
      "source": [
        "df.dtypes\n",
        "#Show list again showing new column"
      ],
      "execution_count": 6,
      "outputs": [
        {
          "output_type": "execute_result",
          "data": {
            "text/plain": [
              "Utilization Type                   object\n",
              "State                              object\n",
              "Labeler Code                        int64\n",
              "Product Code                        int64\n",
              "Package Size                       object\n",
              "Year                                int64\n",
              "Quarter                             int64\n",
              "Product Name                       object\n",
              "Units Reimbursed                  float64\n",
              "Suppression Used                     bool\n",
              "Number of Prescriptions           float64\n",
              "Total Amount Reimbursed           float64\n",
              "Medicaid Amount Reimbursed        float64\n",
              "Non Medicaid Amount Reimbursed    float64\n",
              "Quarter Begin                      object\n",
              "Quarter Begin Date                 object\n",
              "Latitude                          float64\n",
              "Longitude                         float64\n",
              "Location                           object\n",
              "NDC                                object\n",
              "supp_string                        object\n",
              "dtype: object"
            ]
          },
          "metadata": {
            "tags": []
          },
          "execution_count": 6
        }
      ]
    },
    {
      "cell_type": "code",
      "metadata": {
        "id": "xYdqqkh303o7"
      },
      "source": [
        "#Supp_string is now an object instad of a bool"
      ],
      "execution_count": null,
      "outputs": []
    },
    {
      "cell_type": "code",
      "metadata": {
        "id": "OeVHY0CA391P"
      },
      "source": [
        "df['state_cat'] = df['State'].astype('category')\n",
        "#Convert a non categorical column into a category by creating a new column"
      ],
      "execution_count": 7,
      "outputs": []
    },
    {
      "cell_type": "code",
      "metadata": {
        "colab": {
          "base_uri": "https://localhost:8080/"
        },
        "id": "vCL9k_sA4i3w",
        "outputId": "37cec0a1-3969-4987-8a36-766ecc07fb96"
      },
      "source": [
        "df.dtypes\n",
        "#Show the list again to show the new column as been added and is a category"
      ],
      "execution_count": 8,
      "outputs": [
        {
          "output_type": "execute_result",
          "data": {
            "text/plain": [
              "Utilization Type                    object\n",
              "State                               object\n",
              "Labeler Code                         int64\n",
              "Product Code                         int64\n",
              "Package Size                        object\n",
              "Year                                 int64\n",
              "Quarter                              int64\n",
              "Product Name                        object\n",
              "Units Reimbursed                   float64\n",
              "Suppression Used                      bool\n",
              "Number of Prescriptions            float64\n",
              "Total Amount Reimbursed            float64\n",
              "Medicaid Amount Reimbursed         float64\n",
              "Non Medicaid Amount Reimbursed     float64\n",
              "Quarter Begin                       object\n",
              "Quarter Begin Date                  object\n",
              "Latitude                           float64\n",
              "Longitude                          float64\n",
              "Location                            object\n",
              "NDC                                 object\n",
              "supp_string                         object\n",
              "state_cat                         category\n",
              "dtype: object"
            ]
          },
          "metadata": {
            "tags": []
          },
          "execution_count": 8
        }
      ]
    }
  ]
}