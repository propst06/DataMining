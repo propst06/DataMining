{
  "nbformat": 4,
  "nbformat_minor": 0,
  "metadata": {
    "colab": {
      "name": "KaitlynPropstAssignment4DM.ipynb",
      "provenance": [],
      "collapsed_sections": [],
      "authorship_tag": "ABX9TyPJ9LZLgzExD39JZYtH/ihI",
      "include_colab_link": true
    },
    "kernelspec": {
      "name": "python3",
      "display_name": "Python 3"
    },
    "language_info": {
      "name": "python"
    }
  },
  "cells": [
    {
      "cell_type": "markdown",
      "metadata": {
        "id": "view-in-github",
        "colab_type": "text"
      },
      "source": [
        "<a href=\"https://colab.research.google.com/github/propst06/DataMining/blob/main/KaitlynPropstAssignment4DM.ipynb\" target=\"_parent\"><img src=\"https://colab.research.google.com/assets/colab-badge.svg\" alt=\"Open In Colab\"/></a>"
      ]
    },
    {
      "cell_type": "code",
      "metadata": {
        "id": "boS3YOe3JhQf"
      },
      "source": [
        "import pandas as pd"
      ],
      "execution_count": 1,
      "outputs": []
    },
    {
      "cell_type": "code",
      "metadata": {
        "id": "MndaFSfuKrUK",
        "colab": {
          "base_uri": "https://localhost:8080/"
        },
        "outputId": "21fba3e4-5255-4b14-d077-89c9db657150"
      },
      "source": [
        "import io\n",
        "import requests\n",
        "url=\"https://data.medicaid.gov/api/views/mmgn-kvy5/rows.csv?accessType=DOWNLOAD\"\n",
        "s=requests.get(url).content\n",
        "c=pd.read_csv(io.StringIO(s.decode('utf-8')))"
      ],
      "execution_count": 2,
      "outputs": [
        {
          "output_type": "stream",
          "text": [
            "/usr/local/lib/python3.7/dist-packages/IPython/core/interactiveshell.py:2718: DtypeWarning: Columns (4,19) have mixed types.Specify dtype option on import or set low_memory=False.\n",
            "  interactivity=interactivity, compiler=compiler, result=result)\n"
          ],
          "name": "stderr"
        }
      ]
    },
    {
      "cell_type": "code",
      "metadata": {
        "id": "pY3igxiMJior"
      },
      "source": [
        "df = pd.read_csv(\"https://data.medicaid.gov/api/views/mmgn-kvy5/rows.csv?accessType=DOWNLOAD\", low_memory=False)\n",
        "#Import data set one"
      ],
      "execution_count": 3,
      "outputs": []
    },
    {
      "cell_type": "code",
      "metadata": {
        "colab": {
          "base_uri": "https://localhost:8080/",
          "height": 275
        },
        "id": "v9HfrcyCJkl7",
        "outputId": "99172ef6-30a7-4667-966f-39ded20566a8"
      },
      "source": [
        "df.head()"
      ],
      "execution_count": 4,
      "outputs": [
        {
          "output_type": "execute_result",
          "data": {
            "text/html": [
              "<div>\n",
              "<style scoped>\n",
              "    .dataframe tbody tr th:only-of-type {\n",
              "        vertical-align: middle;\n",
              "    }\n",
              "\n",
              "    .dataframe tbody tr th {\n",
              "        vertical-align: top;\n",
              "    }\n",
              "\n",
              "    .dataframe thead th {\n",
              "        text-align: right;\n",
              "    }\n",
              "</style>\n",
              "<table border=\"1\" class=\"dataframe\">\n",
              "  <thead>\n",
              "    <tr style=\"text-align: right;\">\n",
              "      <th></th>\n",
              "      <th>Utilization Type</th>\n",
              "      <th>State</th>\n",
              "      <th>Labeler Code</th>\n",
              "      <th>Product Code</th>\n",
              "      <th>Package Size</th>\n",
              "      <th>Year</th>\n",
              "      <th>Quarter</th>\n",
              "      <th>Product Name</th>\n",
              "      <th>Units Reimbursed</th>\n",
              "      <th>Suppression Used</th>\n",
              "      <th>Number of Prescriptions</th>\n",
              "      <th>Total Amount Reimbursed</th>\n",
              "      <th>Medicaid Amount Reimbursed</th>\n",
              "      <th>Non Medicaid Amount Reimbursed</th>\n",
              "      <th>Quarter Begin</th>\n",
              "      <th>Quarter Begin Date</th>\n",
              "      <th>Latitude</th>\n",
              "      <th>Longitude</th>\n",
              "      <th>Location</th>\n",
              "      <th>NDC</th>\n",
              "    </tr>\n",
              "  </thead>\n",
              "  <tbody>\n",
              "    <tr>\n",
              "      <th>0</th>\n",
              "      <td>FFSU</td>\n",
              "      <td>XX</td>\n",
              "      <td>49502</td>\n",
              "      <td>810</td>\n",
              "      <td>03</td>\n",
              "      <td>2010</td>\n",
              "      <td>2</td>\n",
              "      <td>WATER FOR</td>\n",
              "      <td>NaN</td>\n",
              "      <td>True</td>\n",
              "      <td>NaN</td>\n",
              "      <td>NaN</td>\n",
              "      <td>NaN</td>\n",
              "      <td>NaN</td>\n",
              "      <td>4/1</td>\n",
              "      <td>04/01/2010</td>\n",
              "      <td>NaN</td>\n",
              "      <td>NaN</td>\n",
              "      <td>NaN</td>\n",
              "      <td>49502081003</td>\n",
              "    </tr>\n",
              "    <tr>\n",
              "      <th>1</th>\n",
              "      <td>MCOU</td>\n",
              "      <td>XX</td>\n",
              "      <td>603</td>\n",
              "      <td>3881</td>\n",
              "      <td>12</td>\n",
              "      <td>2010</td>\n",
              "      <td>3</td>\n",
              "      <td>HYDROCODON</td>\n",
              "      <td>NaN</td>\n",
              "      <td>True</td>\n",
              "      <td>NaN</td>\n",
              "      <td>NaN</td>\n",
              "      <td>NaN</td>\n",
              "      <td>NaN</td>\n",
              "      <td>7/1</td>\n",
              "      <td>07/01/2010</td>\n",
              "      <td>NaN</td>\n",
              "      <td>NaN</td>\n",
              "      <td>NaN</td>\n",
              "      <td>00603388112</td>\n",
              "    </tr>\n",
              "    <tr>\n",
              "      <th>2</th>\n",
              "      <td>MCOU</td>\n",
              "      <td>XX</td>\n",
              "      <td>78</td>\n",
              "      <td>502</td>\n",
              "      <td>15</td>\n",
              "      <td>2010</td>\n",
              "      <td>2</td>\n",
              "      <td>EXELON 9.5</td>\n",
              "      <td>6330.0</td>\n",
              "      <td>False</td>\n",
              "      <td>211.0</td>\n",
              "      <td>44432.7</td>\n",
              "      <td>44393.7</td>\n",
              "      <td>39.0</td>\n",
              "      <td>4/1</td>\n",
              "      <td>04/01/2010</td>\n",
              "      <td>NaN</td>\n",
              "      <td>NaN</td>\n",
              "      <td>NaN</td>\n",
              "      <td>00078050215</td>\n",
              "    </tr>\n",
              "    <tr>\n",
              "      <th>3</th>\n",
              "      <td>MCOU</td>\n",
              "      <td>XX</td>\n",
              "      <td>603</td>\n",
              "      <td>4990</td>\n",
              "      <td>28</td>\n",
              "      <td>2010</td>\n",
              "      <td>4</td>\n",
              "      <td>OXYCODONE</td>\n",
              "      <td>NaN</td>\n",
              "      <td>True</td>\n",
              "      <td>NaN</td>\n",
              "      <td>NaN</td>\n",
              "      <td>NaN</td>\n",
              "      <td>NaN</td>\n",
              "      <td>10/1</td>\n",
              "      <td>10/01/2010</td>\n",
              "      <td>NaN</td>\n",
              "      <td>NaN</td>\n",
              "      <td>NaN</td>\n",
              "      <td>00603499028</td>\n",
              "    </tr>\n",
              "    <tr>\n",
              "      <th>4</th>\n",
              "      <td>MCOU</td>\n",
              "      <td>XX</td>\n",
              "      <td>11980</td>\n",
              "      <td>228</td>\n",
              "      <td>10</td>\n",
              "      <td>2010</td>\n",
              "      <td>1</td>\n",
              "      <td>FML FORTE</td>\n",
              "      <td>NaN</td>\n",
              "      <td>True</td>\n",
              "      <td>NaN</td>\n",
              "      <td>NaN</td>\n",
              "      <td>NaN</td>\n",
              "      <td>NaN</td>\n",
              "      <td>1/1</td>\n",
              "      <td>01/01/2010</td>\n",
              "      <td>NaN</td>\n",
              "      <td>NaN</td>\n",
              "      <td>NaN</td>\n",
              "      <td>11980022810</td>\n",
              "    </tr>\n",
              "  </tbody>\n",
              "</table>\n",
              "</div>"
            ],
            "text/plain": [
              "  Utilization Type State  Labeler Code  ...  Longitude Location          NDC\n",
              "0             FFSU    XX         49502  ...        NaN      NaN  49502081003\n",
              "1             MCOU    XX           603  ...        NaN      NaN  00603388112\n",
              "2             MCOU    XX            78  ...        NaN      NaN  00078050215\n",
              "3             MCOU    XX           603  ...        NaN      NaN  00603499028\n",
              "4             MCOU    XX         11980  ...        NaN      NaN  11980022810\n",
              "\n",
              "[5 rows x 20 columns]"
            ]
          },
          "metadata": {
            "tags": []
          },
          "execution_count": 4
        }
      ]
    },
    {
      "cell_type": "code",
      "metadata": {
        "id": "Ces_YWMcJmPm"
      },
      "source": [
        "import numpy as np\n",
        "import seaborn as sns\n",
        "import matplotlib.pyplot as plt"
      ],
      "execution_count": 5,
      "outputs": []
    },
    {
      "cell_type": "code",
      "metadata": {
        "id": "X9jxr-5HJsua"
      },
      "source": [
        "df2 = sns.load_dataset(\"anscombe\")\n",
        "#import data set two"
      ],
      "execution_count": 6,
      "outputs": []
    },
    {
      "cell_type": "code",
      "metadata": {
        "colab": {
          "base_uri": "https://localhost:8080/"
        },
        "id": "pUWQE5bYJueD",
        "outputId": "d65009be-33f0-443f-d9f5-915a0e0ce089"
      },
      "source": [
        "print(df2)"
      ],
      "execution_count": 7,
      "outputs": [
        {
          "output_type": "stream",
          "text": [
            "   dataset     x      y\n",
            "0        I  10.0   8.04\n",
            "1        I   8.0   6.95\n",
            "2        I  13.0   7.58\n",
            "3        I   9.0   8.81\n",
            "4        I  11.0   8.33\n",
            "5        I  14.0   9.96\n",
            "6        I   6.0   7.24\n",
            "7        I   4.0   4.26\n",
            "8        I  12.0  10.84\n",
            "9        I   7.0   4.82\n",
            "10       I   5.0   5.68\n",
            "11      II  10.0   9.14\n",
            "12      II   8.0   8.14\n",
            "13      II  13.0   8.74\n",
            "14      II   9.0   8.77\n",
            "15      II  11.0   9.26\n",
            "16      II  14.0   8.10\n",
            "17      II   6.0   6.13\n",
            "18      II   4.0   3.10\n",
            "19      II  12.0   9.13\n",
            "20      II   7.0   7.26\n",
            "21      II   5.0   4.74\n",
            "22     III  10.0   7.46\n",
            "23     III   8.0   6.77\n",
            "24     III  13.0  12.74\n",
            "25     III   9.0   7.11\n",
            "26     III  11.0   7.81\n",
            "27     III  14.0   8.84\n",
            "28     III   6.0   6.08\n",
            "29     III   4.0   5.39\n",
            "30     III  12.0   8.15\n",
            "31     III   7.0   6.42\n",
            "32     III   5.0   5.73\n",
            "33      IV   8.0   6.58\n",
            "34      IV   8.0   5.76\n",
            "35      IV   8.0   7.71\n",
            "36      IV   8.0   8.84\n",
            "37      IV   8.0   8.47\n",
            "38      IV   8.0   7.04\n",
            "39      IV   8.0   5.25\n",
            "40      IV  19.0  12.50\n",
            "41      IV   8.0   5.56\n",
            "42      IV   8.0   7.91\n",
            "43      IV   8.0   6.89\n"
          ],
          "name": "stdout"
        }
      ]
    },
    {
      "cell_type": "code",
      "metadata": {
        "colab": {
          "base_uri": "https://localhost:8080/"
        },
        "id": "Y0VDxMz6J4El",
        "outputId": "1931b557-c8df-44d6-bf05-a24206e00d6d"
      },
      "source": [
        "row_concat = pd.concat([df, df2])\n",
        "\n",
        "print(row_concat)\n",
        "#put data sets together in a list"
      ],
      "execution_count": 9,
      "outputs": [
        {
          "output_type": "stream",
          "text": [
            "   Utilization Type State  Labeler Code  ...  dataset     x      y\n",
            "0              FFSU    XX       49502.0  ...      NaN   NaN    NaN\n",
            "1              MCOU    XX         603.0  ...      NaN   NaN    NaN\n",
            "2              MCOU    XX          78.0  ...      NaN   NaN    NaN\n",
            "3              MCOU    XX         603.0  ...      NaN   NaN    NaN\n",
            "4              MCOU    XX       11980.0  ...      NaN   NaN    NaN\n",
            "..              ...   ...           ...  ...      ...   ...    ...\n",
            "39              NaN   NaN           NaN  ...       IV   8.0   5.25\n",
            "40              NaN   NaN           NaN  ...       IV  19.0  12.50\n",
            "41              NaN   NaN           NaN  ...       IV   8.0   5.56\n",
            "42              NaN   NaN           NaN  ...       IV   8.0   7.91\n",
            "43              NaN   NaN           NaN  ...       IV   8.0   6.89\n",
            "\n",
            "[3119859 rows x 23 columns]\n"
          ],
          "name": "stdout"
        }
      ]
    },
    {
      "cell_type": "code",
      "metadata": {
        "colab": {
          "base_uri": "https://localhost:8080/"
        },
        "id": "Lqn4VUB6KTCn",
        "outputId": "4c6a08e2-5bc1-42d3-8d05-bbb13e205404"
      },
      "source": [
        "df3 = row_concat\n",
        "\n",
        "print(df3)"
      ],
      "execution_count": 11,
      "outputs": [
        {
          "output_type": "stream",
          "text": [
            "   Utilization Type State  Labeler Code  ...  dataset     x      y\n",
            "0              FFSU    XX       49502.0  ...      NaN   NaN    NaN\n",
            "1              MCOU    XX         603.0  ...      NaN   NaN    NaN\n",
            "2              MCOU    XX          78.0  ...      NaN   NaN    NaN\n",
            "3              MCOU    XX         603.0  ...      NaN   NaN    NaN\n",
            "4              MCOU    XX       11980.0  ...      NaN   NaN    NaN\n",
            "..              ...   ...           ...  ...      ...   ...    ...\n",
            "39              NaN   NaN           NaN  ...       IV   8.0   5.25\n",
            "40              NaN   NaN           NaN  ...       IV  19.0  12.50\n",
            "41              NaN   NaN           NaN  ...       IV   8.0   5.56\n",
            "42              NaN   NaN           NaN  ...       IV   8.0   7.91\n",
            "43              NaN   NaN           NaN  ...       IV   8.0   6.89\n",
            "\n",
            "[3119859 rows x 23 columns]\n"
          ],
          "name": "stdout"
        }
      ]
    },
    {
      "cell_type": "code",
      "metadata": {
        "colab": {
          "base_uri": "https://localhost:8080/"
        },
        "id": "AE1EdJL3MVyd",
        "outputId": "3ed27abd-6319-41f3-bac8-be21b79ba68b"
      },
      "source": [
        "df3.isnull().sum()"
      ],
      "execution_count": 12,
      "outputs": [
        {
          "output_type": "execute_result",
          "data": {
            "text/plain": [
              "Utilization Type                       44\n",
              "State                                  44\n",
              "Labeler Code                           44\n",
              "Product Code                           44\n",
              "Package Size                           68\n",
              "Year                                   44\n",
              "Quarter                                44\n",
              "Product Name                          652\n",
              "Units Reimbursed                  1583729\n",
              "Suppression Used                       44\n",
              "Number of Prescriptions           1583729\n",
              "Total Amount Reimbursed           1583729\n",
              "Medicaid Amount Reimbursed        1583729\n",
              "Non Medicaid Amount Reimbursed    1583729\n",
              "Quarter Begin                          44\n",
              "Quarter Begin Date                     44\n",
              "Latitude                           218920\n",
              "Longitude                          218920\n",
              "Location                           218920\n",
              "NDC                                    44\n",
              "dataset                           3119815\n",
              "x                                 3119815\n",
              "y                                 3119815\n",
              "dtype: int64"
            ]
          },
          "metadata": {
            "tags": []
          },
          "execution_count": 12
        }
      ]
    },
    {
      "cell_type": "code",
      "metadata": {
        "colab": {
          "base_uri": "https://localhost:8080/"
        },
        "id": "-fwpopxCMaNS",
        "outputId": "0470382c-6b13-48b1-d283-87950ef0390c"
      },
      "source": [
        "df4 = df.append(df2)\n",
        "print(df4)"
      ],
      "execution_count": 17,
      "outputs": [
        {
          "output_type": "stream",
          "text": [
            "   Utilization Type State  Labeler Code  ...  dataset     x      y\n",
            "0              FFSU    XX       49502.0  ...      NaN   NaN    NaN\n",
            "1              MCOU    XX         603.0  ...      NaN   NaN    NaN\n",
            "2              MCOU    XX          78.0  ...      NaN   NaN    NaN\n",
            "3              MCOU    XX         603.0  ...      NaN   NaN    NaN\n",
            "4              MCOU    XX       11980.0  ...      NaN   NaN    NaN\n",
            "..              ...   ...           ...  ...      ...   ...    ...\n",
            "39              NaN   NaN           NaN  ...       IV   8.0   5.25\n",
            "40              NaN   NaN           NaN  ...       IV  19.0  12.50\n",
            "41              NaN   NaN           NaN  ...       IV   8.0   5.56\n",
            "42              NaN   NaN           NaN  ...       IV   8.0   7.91\n",
            "43              NaN   NaN           NaN  ...       IV   8.0   6.89\n",
            "\n",
            "[3119859 rows x 23 columns]\n"
          ],
          "name": "stdout"
        }
      ]
    },
    {
      "cell_type": "code",
      "metadata": {
        "colab": {
          "base_uri": "https://localhost:8080/"
        },
        "id": "yUgq_L8BNzqS",
        "outputId": "4b124e7d-b506-48f8-a5eb-bad503d113e7"
      },
      "source": [
        "print(df4.fillna(0).iloc[0:10, 0:23])"
      ],
      "execution_count": 30,
      "outputs": [
        {
          "output_type": "stream",
          "text": [
            "  Utilization Type State  Labeler Code  ...  dataset    x    y\n",
            "0             FFSU    XX       49502.0  ...        0  0.0  0.0\n",
            "1             MCOU    XX         603.0  ...        0  0.0  0.0\n",
            "2             MCOU    XX          78.0  ...        0  0.0  0.0\n",
            "3             MCOU    XX         603.0  ...        0  0.0  0.0\n",
            "4             MCOU    XX       11980.0  ...        0  0.0  0.0\n",
            "5             MCOU    XX       64720.0  ...        0  0.0  0.0\n",
            "6             FFSU    XX         143.0  ...        0  0.0  0.0\n",
            "7             MCOU    XX         517.0  ...        0  0.0  0.0\n",
            "8             FFSU    XX         186.0  ...        0  0.0  0.0\n",
            "9             MCOU    XX         172.0  ...        0  0.0  0.0\n",
            "\n",
            "[10 rows x 23 columns]\n"
          ],
          "name": "stdout"
        }
      ]
    },
    {
      "cell_type": "code",
      "metadata": {
        "colab": {
          "base_uri": "https://localhost:8080/",
          "height": 430
        },
        "id": "IKxxvzKkSSoD",
        "outputId": "263daf8c-920e-4034-b712-5424bcdb3948"
      },
      "source": [
        "df5 = df4.fillna(0).iloc[0:10, 0:23]\n",
        "df5.tail(10)"
      ],
      "execution_count": 31,
      "outputs": [
        {
          "output_type": "execute_result",
          "data": {
            "text/html": [
              "<div>\n",
              "<style scoped>\n",
              "    .dataframe tbody tr th:only-of-type {\n",
              "        vertical-align: middle;\n",
              "    }\n",
              "\n",
              "    .dataframe tbody tr th {\n",
              "        vertical-align: top;\n",
              "    }\n",
              "\n",
              "    .dataframe thead th {\n",
              "        text-align: right;\n",
              "    }\n",
              "</style>\n",
              "<table border=\"1\" class=\"dataframe\">\n",
              "  <thead>\n",
              "    <tr style=\"text-align: right;\">\n",
              "      <th></th>\n",
              "      <th>Utilization Type</th>\n",
              "      <th>State</th>\n",
              "      <th>Labeler Code</th>\n",
              "      <th>Product Code</th>\n",
              "      <th>Package Size</th>\n",
              "      <th>Year</th>\n",
              "      <th>Quarter</th>\n",
              "      <th>Product Name</th>\n",
              "      <th>Units Reimbursed</th>\n",
              "      <th>Suppression Used</th>\n",
              "      <th>Number of Prescriptions</th>\n",
              "      <th>Total Amount Reimbursed</th>\n",
              "      <th>Medicaid Amount Reimbursed</th>\n",
              "      <th>Non Medicaid Amount Reimbursed</th>\n",
              "      <th>Quarter Begin</th>\n",
              "      <th>Quarter Begin Date</th>\n",
              "      <th>Latitude</th>\n",
              "      <th>Longitude</th>\n",
              "      <th>Location</th>\n",
              "      <th>NDC</th>\n",
              "      <th>dataset</th>\n",
              "      <th>x</th>\n",
              "      <th>y</th>\n",
              "    </tr>\n",
              "  </thead>\n",
              "  <tbody>\n",
              "    <tr>\n",
              "      <th>0</th>\n",
              "      <td>FFSU</td>\n",
              "      <td>XX</td>\n",
              "      <td>49502.0</td>\n",
              "      <td>810.0</td>\n",
              "      <td>03</td>\n",
              "      <td>2010.0</td>\n",
              "      <td>2.0</td>\n",
              "      <td>WATER FOR</td>\n",
              "      <td>0.0</td>\n",
              "      <td>True</td>\n",
              "      <td>0.0</td>\n",
              "      <td>0.00</td>\n",
              "      <td>0.00</td>\n",
              "      <td>0.00</td>\n",
              "      <td>4/1</td>\n",
              "      <td>04/01/2010</td>\n",
              "      <td>0.0</td>\n",
              "      <td>0.0</td>\n",
              "      <td>0</td>\n",
              "      <td>49502081003</td>\n",
              "      <td>0</td>\n",
              "      <td>0.0</td>\n",
              "      <td>0.0</td>\n",
              "    </tr>\n",
              "    <tr>\n",
              "      <th>1</th>\n",
              "      <td>MCOU</td>\n",
              "      <td>XX</td>\n",
              "      <td>603.0</td>\n",
              "      <td>3881.0</td>\n",
              "      <td>12</td>\n",
              "      <td>2010.0</td>\n",
              "      <td>3.0</td>\n",
              "      <td>HYDROCODON</td>\n",
              "      <td>0.0</td>\n",
              "      <td>True</td>\n",
              "      <td>0.0</td>\n",
              "      <td>0.00</td>\n",
              "      <td>0.00</td>\n",
              "      <td>0.00</td>\n",
              "      <td>7/1</td>\n",
              "      <td>07/01/2010</td>\n",
              "      <td>0.0</td>\n",
              "      <td>0.0</td>\n",
              "      <td>0</td>\n",
              "      <td>00603388112</td>\n",
              "      <td>0</td>\n",
              "      <td>0.0</td>\n",
              "      <td>0.0</td>\n",
              "    </tr>\n",
              "    <tr>\n",
              "      <th>2</th>\n",
              "      <td>MCOU</td>\n",
              "      <td>XX</td>\n",
              "      <td>78.0</td>\n",
              "      <td>502.0</td>\n",
              "      <td>15</td>\n",
              "      <td>2010.0</td>\n",
              "      <td>2.0</td>\n",
              "      <td>EXELON 9.5</td>\n",
              "      <td>6330.0</td>\n",
              "      <td>False</td>\n",
              "      <td>211.0</td>\n",
              "      <td>44432.70</td>\n",
              "      <td>44393.70</td>\n",
              "      <td>39.00</td>\n",
              "      <td>4/1</td>\n",
              "      <td>04/01/2010</td>\n",
              "      <td>0.0</td>\n",
              "      <td>0.0</td>\n",
              "      <td>0</td>\n",
              "      <td>00078050215</td>\n",
              "      <td>0</td>\n",
              "      <td>0.0</td>\n",
              "      <td>0.0</td>\n",
              "    </tr>\n",
              "    <tr>\n",
              "      <th>3</th>\n",
              "      <td>MCOU</td>\n",
              "      <td>XX</td>\n",
              "      <td>603.0</td>\n",
              "      <td>4990.0</td>\n",
              "      <td>28</td>\n",
              "      <td>2010.0</td>\n",
              "      <td>4.0</td>\n",
              "      <td>OXYCODONE</td>\n",
              "      <td>0.0</td>\n",
              "      <td>True</td>\n",
              "      <td>0.0</td>\n",
              "      <td>0.00</td>\n",
              "      <td>0.00</td>\n",
              "      <td>0.00</td>\n",
              "      <td>10/1</td>\n",
              "      <td>10/01/2010</td>\n",
              "      <td>0.0</td>\n",
              "      <td>0.0</td>\n",
              "      <td>0</td>\n",
              "      <td>00603499028</td>\n",
              "      <td>0</td>\n",
              "      <td>0.0</td>\n",
              "      <td>0.0</td>\n",
              "    </tr>\n",
              "    <tr>\n",
              "      <th>4</th>\n",
              "      <td>MCOU</td>\n",
              "      <td>XX</td>\n",
              "      <td>11980.0</td>\n",
              "      <td>228.0</td>\n",
              "      <td>10</td>\n",
              "      <td>2010.0</td>\n",
              "      <td>1.0</td>\n",
              "      <td>FML FORTE</td>\n",
              "      <td>0.0</td>\n",
              "      <td>True</td>\n",
              "      <td>0.0</td>\n",
              "      <td>0.00</td>\n",
              "      <td>0.00</td>\n",
              "      <td>0.00</td>\n",
              "      <td>1/1</td>\n",
              "      <td>01/01/2010</td>\n",
              "      <td>0.0</td>\n",
              "      <td>0.0</td>\n",
              "      <td>0</td>\n",
              "      <td>11980022810</td>\n",
              "      <td>0</td>\n",
              "      <td>0.0</td>\n",
              "      <td>0.0</td>\n",
              "    </tr>\n",
              "    <tr>\n",
              "      <th>5</th>\n",
              "      <td>MCOU</td>\n",
              "      <td>XX</td>\n",
              "      <td>64720.0</td>\n",
              "      <td>136.0</td>\n",
              "      <td>10</td>\n",
              "      <td>2010.0</td>\n",
              "      <td>2.0</td>\n",
              "      <td>MIXED AMPH</td>\n",
              "      <td>106784.0</td>\n",
              "      <td>False</td>\n",
              "      <td>1968.0</td>\n",
              "      <td>46413.21</td>\n",
              "      <td>45949.86</td>\n",
              "      <td>463.35</td>\n",
              "      <td>4/1</td>\n",
              "      <td>04/01/2010</td>\n",
              "      <td>0.0</td>\n",
              "      <td>0.0</td>\n",
              "      <td>0</td>\n",
              "      <td>64720013610</td>\n",
              "      <td>0</td>\n",
              "      <td>0.0</td>\n",
              "      <td>0.0</td>\n",
              "    </tr>\n",
              "    <tr>\n",
              "      <th>6</th>\n",
              "      <td>FFSU</td>\n",
              "      <td>XX</td>\n",
              "      <td>143.0</td>\n",
              "      <td>9877.0</td>\n",
              "      <td>25</td>\n",
              "      <td>2010.0</td>\n",
              "      <td>4.0</td>\n",
              "      <td>CEFOXITIN</td>\n",
              "      <td>0.0</td>\n",
              "      <td>True</td>\n",
              "      <td>0.0</td>\n",
              "      <td>0.00</td>\n",
              "      <td>0.00</td>\n",
              "      <td>0.00</td>\n",
              "      <td>10/1</td>\n",
              "      <td>10/01/2010</td>\n",
              "      <td>0.0</td>\n",
              "      <td>0.0</td>\n",
              "      <td>0</td>\n",
              "      <td>00143987725</td>\n",
              "      <td>0</td>\n",
              "      <td>0.0</td>\n",
              "      <td>0.0</td>\n",
              "    </tr>\n",
              "    <tr>\n",
              "      <th>7</th>\n",
              "      <td>MCOU</td>\n",
              "      <td>XX</td>\n",
              "      <td>517.0</td>\n",
              "      <td>6110.0</td>\n",
              "      <td>25</td>\n",
              "      <td>2010.0</td>\n",
              "      <td>2.0</td>\n",
              "      <td>ZINC SULFA</td>\n",
              "      <td>0.0</td>\n",
              "      <td>True</td>\n",
              "      <td>0.0</td>\n",
              "      <td>0.00</td>\n",
              "      <td>0.00</td>\n",
              "      <td>0.00</td>\n",
              "      <td>4/1</td>\n",
              "      <td>04/01/2010</td>\n",
              "      <td>0.0</td>\n",
              "      <td>0.0</td>\n",
              "      <td>0</td>\n",
              "      <td>00517611025</td>\n",
              "      <td>0</td>\n",
              "      <td>0.0</td>\n",
              "      <td>0.0</td>\n",
              "    </tr>\n",
              "    <tr>\n",
              "      <th>8</th>\n",
              "      <td>FFSU</td>\n",
              "      <td>XX</td>\n",
              "      <td>186.0</td>\n",
              "      <td>867.0</td>\n",
              "      <td>54</td>\n",
              "      <td>2010.0</td>\n",
              "      <td>3.0</td>\n",
              "      <td>NAROPIN 7.</td>\n",
              "      <td>0.0</td>\n",
              "      <td>True</td>\n",
              "      <td>0.0</td>\n",
              "      <td>0.00</td>\n",
              "      <td>0.00</td>\n",
              "      <td>0.00</td>\n",
              "      <td>7/1</td>\n",
              "      <td>07/01/2010</td>\n",
              "      <td>0.0</td>\n",
              "      <td>0.0</td>\n",
              "      <td>0</td>\n",
              "      <td>00186086754</td>\n",
              "      <td>0</td>\n",
              "      <td>0.0</td>\n",
              "      <td>0.0</td>\n",
              "    </tr>\n",
              "    <tr>\n",
              "      <th>9</th>\n",
              "      <td>MCOU</td>\n",
              "      <td>XX</td>\n",
              "      <td>172.0</td>\n",
              "      <td>4356.0</td>\n",
              "      <td>60</td>\n",
              "      <td>2010.0</td>\n",
              "      <td>4.0</td>\n",
              "      <td>FLUOXETINE</td>\n",
              "      <td>1653.0</td>\n",
              "      <td>False</td>\n",
              "      <td>48.0</td>\n",
              "      <td>392.11</td>\n",
              "      <td>390.11</td>\n",
              "      <td>2.00</td>\n",
              "      <td>10/1</td>\n",
              "      <td>10/01/2010</td>\n",
              "      <td>0.0</td>\n",
              "      <td>0.0</td>\n",
              "      <td>0</td>\n",
              "      <td>00172435660</td>\n",
              "      <td>0</td>\n",
              "      <td>0.0</td>\n",
              "      <td>0.0</td>\n",
              "    </tr>\n",
              "  </tbody>\n",
              "</table>\n",
              "</div>"
            ],
            "text/plain": [
              "  Utilization Type State  Labeler Code  ...  dataset    x    y\n",
              "0             FFSU    XX       49502.0  ...        0  0.0  0.0\n",
              "1             MCOU    XX         603.0  ...        0  0.0  0.0\n",
              "2             MCOU    XX          78.0  ...        0  0.0  0.0\n",
              "3             MCOU    XX         603.0  ...        0  0.0  0.0\n",
              "4             MCOU    XX       11980.0  ...        0  0.0  0.0\n",
              "5             MCOU    XX       64720.0  ...        0  0.0  0.0\n",
              "6             FFSU    XX         143.0  ...        0  0.0  0.0\n",
              "7             MCOU    XX         517.0  ...        0  0.0  0.0\n",
              "8             FFSU    XX         186.0  ...        0  0.0  0.0\n",
              "9             MCOU    XX         172.0  ...        0  0.0  0.0\n",
              "\n",
              "[10 rows x 23 columns]"
            ]
          },
          "metadata": {
            "tags": []
          },
          "execution_count": 31
        }
      ]
    },
    {
      "cell_type": "code",
      "metadata": {
        "id": "j6qN3rAbQ08p"
      },
      "source": [
        "#The first data set has a lot of rows so I showed the first ten rows and the last ten, but it safe to assume that all NaN values have been replaced with 0s. \n",
        "#I chose this instead of dropna() because it would remove all of the dataset since all of the rows have NaN values."
      ],
      "execution_count": null,
      "outputs": []
    }
  ]
}